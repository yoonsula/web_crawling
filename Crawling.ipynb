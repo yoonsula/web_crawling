{
 "cells": [
  {
   "cell_type": "markdown",
   "metadata": {},
   "source": [
    "!pip install selenium"
   ]
  },
  {
   "cell_type": "markdown",
   "metadata": {},
   "source": [
    "cd"
   ]
  },
  {
   "cell_type": "code",
   "execution_count": 1,
   "metadata": {},
   "outputs": [],
   "source": [
    "from selenium import webdriver\n",
    "from selenium.webdriver.common.keys import Keys\n",
    "import time\n",
    "import urllib.request\n",
    "import os"
   ]
  },
  {
   "cell_type": "code",
   "execution_count": null,
   "metadata": {},
   "outputs": [],
   "source": [
    "driver = webdriver.Chrome('C:/Users/YOONSU/chromedriver.exe')\n",
    "\n",
    "driver.get('https://www.google.co.kr/imghp?hl=ko&tab=ri&authuser=0&ogbl')\n",
    "\n",
    "elem = driver.find_element_by_name(\"q\")\n",
    "elem.send_keys(\"tesla\")\n",
    "elem.send_keys(Keys.RETURN)\n",
    "\n",
    "driver.find_elements_by_css_selector(\".rg_i.Q4LuWd\")[0].click()\n",
    "time.sleep(3)\n",
    "imgUrl = driver.find_element_by_css_selector(\".n3VNCb\").get_attribute(\"src\")\n",
    "# urllib.request.urlretrieve(imgurl,\"test123.jpg\")\n",
    "\n",
    "opener=urllib.request.build_opener()\n",
    "opener.addheaders=[('User-Agent','Mozilla/5.0 (Windows NT 6.1; WOW64) AppleWebKit/537.36 (KHTML, like Gecko) Chrome/36.0.1941.0 Safari/537.36')]\n",
    "urllib.request.install_opener(opener)\n",
    "urllib.request.urlretrieve(imgUrl, \"test1.jpg\")\n",
    "\n",
    "# assert \"Python\" in driver.title\n",
    "\n",
    "# elem.clear()\n",
    "\n",
    "\n",
    "# assert \"No results found.\" not in driver.page_source\n",
    "# driver.close()"
   ]
  },
  {
   "cell_type": "code",
   "execution_count": null,
   "metadata": {},
   "outputs": [],
   "source": []
  }
 ],
 "metadata": {
  "kernelspec": {
   "display_name": "Python 3",
   "language": "python",
   "name": "python3"
  },
  "language_info": {
   "codemirror_mode": {
    "name": "ipython",
    "version": 3
   },
   "file_extension": ".py",
   "mimetype": "text/x-python",
   "name": "python",
   "nbconvert_exporter": "python",
   "pygments_lexer": "ipython3",
   "version": "3.8.5"
  }
 },
 "nbformat": 4,
 "nbformat_minor": 4
}
