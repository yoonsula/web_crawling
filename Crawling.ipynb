{
 "cells": [
  {
   "cell_type": "markdown",
   "metadata": {},
   "source": [
    "!pip install selenium"
   ]
  },
  {
   "cell_type": "markdown",
   "metadata": {},
   "source": [
    "cd YOONSU"
   ]
  },
  {
   "cell_type": "code",
   "execution_count": 8,
   "metadata": {},
   "outputs": [],
   "source": [
    "from selenium import webdriver\n",
    "from selenium.webdriver.common.keys import Keys\n",
    "import time\n",
    "import urllib.request\n",
    "import os"
   ]
  },
  {
   "cell_type": "code",
   "execution_count": 6,
   "metadata": {},
   "outputs": [
    {
     "ename": "NameError",
     "evalue": "name 'urllib' is not defined",
     "output_type": "error",
     "traceback": [
      "\u001b[1;31m---------------------------------------------------------------------------\u001b[0m",
      "\u001b[1;31mNameError\u001b[0m                                 Traceback (most recent call last)",
      "\u001b[1;32m<ipython-input-6-9ae481aa76e3>\u001b[0m in \u001b[0;36m<module>\u001b[1;34m\u001b[0m\n\u001b[0;32m     16\u001b[0m \u001b[1;31m# opener.addheaders=[('User-Agent','Mozilla/5.0 (Windows NT 6.1; WOW64) AppleWebKit/537.36 (KHTML, like Gecko) Chrome/36.0.1941.0 Safari/537.36')]\u001b[0m\u001b[1;33m\u001b[0m\u001b[1;33m\u001b[0m\u001b[1;33m\u001b[0m\u001b[0m\n\u001b[0;32m     17\u001b[0m \u001b[1;31m# urllib.request.install_opener(opener)\u001b[0m\u001b[1;33m\u001b[0m\u001b[1;33m\u001b[0m\u001b[1;33m\u001b[0m\u001b[0m\n\u001b[1;32m---> 18\u001b[1;33m \u001b[0murllib\u001b[0m\u001b[1;33m.\u001b[0m\u001b[0mrequest\u001b[0m\u001b[1;33m.\u001b[0m\u001b[0murlretrieve\u001b[0m\u001b[1;33m(\u001b[0m\u001b[0mimgUrl\u001b[0m\u001b[1;33m,\u001b[0m \u001b[1;34m\"tesla5.jpg\"\u001b[0m\u001b[1;33m)\u001b[0m\u001b[1;33m\u001b[0m\u001b[1;33m\u001b[0m\u001b[0m\n\u001b[0m\u001b[0;32m     19\u001b[0m \u001b[1;33m\u001b[0m\u001b[0m\n\u001b[0;32m     20\u001b[0m \u001b[1;31m# assert \"Python\" in driver.title\u001b[0m\u001b[1;33m\u001b[0m\u001b[1;33m\u001b[0m\u001b[1;33m\u001b[0m\u001b[0m\n",
      "\u001b[1;31mNameError\u001b[0m: name 'urllib' is not defined"
     ]
    }
   ],
   "source": [
    "driver = webdriver.Chrome('C:/Users/YOONSU/chromedriver.exe')\n",
    "\n",
    "driver.get('https://www.google.co.kr/imghp?hl=ko&tab=ri&authuser=0&ogbl')\n",
    "\n",
    "elem = driver.find_element_by_name(\"q\")\n",
    "elem.send_keys(\"tesla\")\n",
    "elem.send_keys(Keys.RETURN)\n",
    "\n",
    "driver.find_elements_by_css_selector(\".rg_i.Q4LuWd\")[0].click()\n",
    "time.sleep(3)\n",
    "\n",
    "imgUrl = driver.find_element_by_css_selector(\".n3VNCb\").get_attribute(\"src\")\n",
    "# urllib.request.urlretrieve(imgurl,\"test123.jpg\")\n",
    "\n",
    "# opener=urllib.request.build_opener()\n",
    "# opener.addheaders=[('User-Agent','Mozilla/5.0 (Windows NT 6.1; WOW64) AppleWebKit/537.36 (KHTML, like Gecko) Chrome/36.0.1941.0 Safari/537.36')]\n",
    "# urllib.request.install_opener(opener)\n",
    "urllib.request.urlretrieve(imgUrl, \"tesla5.jpg\")\n",
    "\n",
    "# assert \"Python\" in driver.title\n",
    "\n",
    "# elem.clear()\n",
    "\n",
    "\n",
    "# assert \"No results found.\" not in driver.page_source\n",
    "# driver.close()"
   ]
  },
  {
   "cell_type": "code",
   "execution_count": 10,
   "metadata": {},
   "outputs": [],
   "source": [
    "from selenium import webdriver\n",
    " \n",
    "browser = webdriver.Chrome('C:/Users/YOONSU/chromedriver.exe')\n",
    "# browser = webdriver.Chrome()\n",
    " \n",
    "browser.get(\"http://python.org\")"
   ]
  },
  {
   "cell_type": "code",
   "execution_count": 5,
   "metadata": {},
   "outputs": [
    {
     "name": "stdout",
     "output_type": "stream",
     "text": [
      "YouTube\n",
      "https://www.youtube.com/?gl=KR\n"
     ]
    }
   ],
   "source": [
    "from selenium import webdriver\n",
    "from selenium.webdriver.common.keys import Keys\n",
    "import time\n",
    "\n",
    "#driver = webdriver.Firefox(executable_path=\"D:\\SeleniumProject\\Web_drivers\\geckodriver.exe\")\n",
    "driver = webdriver.Chrome('C:/Users/YOONSU/chromedriver.exe')\n",
    "#driver = webdriver.Ie(executable_path=\"D:\\SeleniumProject\\Web_drivers\\IEDriverServer\")\n",
    "driver.maximize_window()\n",
    "driver.get(\"https://www.youtube.com/?gl=KR\")\n",
    "print(driver.title)\n",
    "print(driver.current_url)\n",
    "driver.find_element_by_css_selector(\"#endpoint\").click()\n",
    "time.sleep(5)"
   ]
  },
  {
   "cell_type": "code",
   "execution_count": null,
   "metadata": {},
   "outputs": [],
   "source": []
  }
 ],
 "metadata": {
  "kernelspec": {
   "display_name": "Python 3",
   "language": "python",
   "name": "python3"
  },
  "language_info": {
   "codemirror_mode": {
    "name": "ipython",
    "version": 3
   },
   "file_extension": ".py",
   "mimetype": "text/x-python",
   "name": "python",
   "nbconvert_exporter": "python",
   "pygments_lexer": "ipython3",
   "version": "3.8.5"
  }
 },
 "nbformat": 4,
 "nbformat_minor": 4
}
